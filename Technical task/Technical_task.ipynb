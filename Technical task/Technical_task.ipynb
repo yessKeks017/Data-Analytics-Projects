{
 "cells": [
  {
   "cell_type": "markdown",
   "id": "9f1e0fd0-ee02-4c9b-876f-b6f8621e4d2e",
   "metadata": {},
   "source": [
    "## Task #8"
   ]
  },
  {
   "cell_type": "code",
   "execution_count": 145,
   "id": "5c92e70f-7148-4c25-8394-f506ce8a756b",
   "metadata": {},
   "outputs": [],
   "source": [
    "import numpy as np\n",
    "import pandas as pd\n",
    "from scipy.stats import t, levene, bartlett, fligner\n",
    "\n",
    "data = pd.read_excel(\"Данные для тестового задания.xlsx\", sheet_name = \"Данные АБ тестов\")"
   ]
  },
  {
   "cell_type": "code",
   "execution_count": 146,
   "id": "ef46a727-2dfc-4c5d-8f7c-7d4e1c68b24a",
   "metadata": {},
   "outputs": [],
   "source": [
    "exp_1_control = data[(data.experiment_num == 1) & (data.experiment_group == 'control')]['revenue']\n",
    "exp_1_test = data[(data.experiment_num == 1) & (data.experiment_group == 'test')]['revenue']\n",
    "exp_2_control = data[(data.experiment_num == 2) & (data.experiment_group == 'control')]['revenue']\n",
    "exp_2_test = data[(data.experiment_num == 2) & (data.experiment_group == 'test')]['revenue']\n",
    "exp_3_control = data[(data.experiment_num == 3) & (data.experiment_group == 'control')]['revenue']\n",
    "exp_3_test = data[(data.experiment_num == 3) & (data.experiment_group == 'test')]['revenue']"
   ]
  },
  {
   "cell_type": "code",
   "execution_count": 306,
   "id": "6962ea38-091e-4e3a-b9cb-f58c5e87b2f1",
   "metadata": {},
   "outputs": [
    {
     "data": {
      "text/html": [
       "<div>\n",
       "<style scoped>\n",
       "    .dataframe tbody tr th:only-of-type {\n",
       "        vertical-align: middle;\n",
       "    }\n",
       "\n",
       "    .dataframe tbody tr th {\n",
       "        vertical-align: top;\n",
       "    }\n",
       "\n",
       "    .dataframe thead th {\n",
       "        text-align: right;\n",
       "    }\n",
       "</style>\n",
       "<table border=\"1\" class=\"dataframe\">\n",
       "  <thead>\n",
       "    <tr style=\"text-align: right;\">\n",
       "      <th></th>\n",
       "      <th>user_id</th>\n",
       "      <th>counts</th>\n",
       "    </tr>\n",
       "  </thead>\n",
       "  <tbody>\n",
       "  </tbody>\n",
       "</table>\n",
       "</div>"
      ],
      "text/plain": [
       "Empty DataFrame\n",
       "Columns: [user_id, counts]\n",
       "Index: []"
      ]
     },
     "execution_count": 306,
     "metadata": {},
     "output_type": "execute_result"
    }
   ],
   "source": [
    "user_id_distinct = data.groupby('user_id').size().reset_index(name = 'counts')\n",
    "user_id_distinct[user_id_distinct.counts != 3]"
   ]
  },
  {
   "cell_type": "markdown",
   "id": "54ee7a57-9840-4754-a9f2-fe2edad7f519",
   "metadata": {},
   "source": [
    "Выходит что каждый юзер поучаствовал в трех экспериментах."
   ]
  },
  {
   "cell_type": "markdown",
   "id": "650690ec-310d-4eb6-8e4c-02044057c6e7",
   "metadata": {},
   "source": [
    "### Experiment 1"
   ]
  },
  {
   "cell_type": "code",
   "execution_count": 316,
   "id": "3c0e7e44-ce14-4408-8060-ed3432ab1a40",
   "metadata": {},
   "outputs": [
    {
     "data": {
      "text/html": [
       "<div>\n",
       "<style scoped>\n",
       "    .dataframe tbody tr th:only-of-type {\n",
       "        vertical-align: middle;\n",
       "    }\n",
       "\n",
       "    .dataframe tbody tr th {\n",
       "        vertical-align: top;\n",
       "    }\n",
       "\n",
       "    .dataframe thead th {\n",
       "        text-align: right;\n",
       "    }\n",
       "</style>\n",
       "<table border=\"1\" class=\"dataframe\">\n",
       "  <thead>\n",
       "    <tr style=\"text-align: right;\">\n",
       "      <th></th>\n",
       "      <th>Test</th>\n",
       "      <th>Statistic</th>\n",
       "      <th>p-value</th>\n",
       "      <th>Equal Variances? (α = 0.05)</th>\n",
       "    </tr>\n",
       "  </thead>\n",
       "  <tbody>\n",
       "    <tr>\n",
       "      <th>0</th>\n",
       "      <td>Levene</td>\n",
       "      <td>0.372572</td>\n",
       "      <td>0.541753</td>\n",
       "      <td>Yes</td>\n",
       "    </tr>\n",
       "    <tr>\n",
       "      <th>1</th>\n",
       "      <td>Bartlett</td>\n",
       "      <td>0.707828</td>\n",
       "      <td>0.400166</td>\n",
       "      <td>Yes</td>\n",
       "    </tr>\n",
       "    <tr>\n",
       "      <th>2</th>\n",
       "      <td>Fligner-Killeen</td>\n",
       "      <td>0.531582</td>\n",
       "      <td>0.465942</td>\n",
       "      <td>Yes</td>\n",
       "    </tr>\n",
       "  </tbody>\n",
       "</table>\n",
       "</div>"
      ],
      "text/plain": [
       "              Test  Statistic   p-value Equal Variances? (α = 0.05)\n",
       "0           Levene   0.372572  0.541753                         Yes\n",
       "1         Bartlett   0.707828  0.400166                         Yes\n",
       "2  Fligner-Killeen   0.531582  0.465942                         Yes"
      ]
     },
     "execution_count": 316,
     "metadata": {},
     "output_type": "execute_result"
    }
   ],
   "source": [
    "# У нас достаточный размер выборок, но неизвестно стандартное отклонение ген. совокупности, значит используем t-test\n",
    "# exp_1_test среднее меньше чем среднее значение exp_1_control\n",
    "\n",
    "# H0: ARPU экспериментальной и контрольной групп равны\n",
    "# H1: ARPU экспериментальной и контрольной групп не равны\n",
    "\n",
    "# Равность дисперсий\n",
    "levene_stat, levene_p = levene(exp_1_test, exp_1_control, center = 'mean')\n",
    "bartlett_stat, bartlett_p = bartlett(exp_1_test, exp_1_control)\n",
    "fligner_stat, fligner_p = fligner(exp_1_test, exp_1_control)\n",
    "\n",
    "results_var_eq = pd.DataFrame({\n",
    "    \"Test\": [\"Levene\", \"Bartlett\", \"Fligner-Killeen\"],\n",
    "    \"Statistic\": [levene_stat, bartlett_stat, fligner_stat],\n",
    "    \"p-value\": [levene_p, bartlett_p, fligner_p],\n",
    "    \"Equal Variances? (α = 0.05)\": [\"Yes\" if p > 0.05 else \"No\" for p in [levene_p, bartlett_p, fligner_p]]\n",
    "})\n",
    "results_var_eq"
   ]
  },
  {
   "cell_type": "code",
   "execution_count": 225,
   "id": "097dac00-c41a-47a1-85cf-c69bfeba2022",
   "metadata": {},
   "outputs": [
    {
     "data": {
      "text/plain": [
       "0.6887842117790162"
      ]
     },
     "execution_count": 225,
     "metadata": {},
     "output_type": "execute_result"
    }
   ],
   "source": [
    "# уровень значимости = 0.05\n",
    "def standard_error_two_samples(sample1, sample2):\n",
    "    n1, n2 = len(sample1), len(sample2)\n",
    "    var1, var2 = sample1.var(ddof = 1), sample2.var(ddof = 1)\n",
    "\n",
    "    levene_stat, levene_p = levene(sample1, sample2, center='mean')\n",
    "    equal_var = True if levene_p > 0.05 else False\n",
    "    \n",
    "    if equal_var:\n",
    "        sp = np.sqrt(((n1 - 1) * var1 + (n2 - 1) * var2) / (n1 + n2 - 2))\n",
    "        se = sp * np.sqrt(1/n1 + 1/n2)\n",
    "        dof = n1 + n2 - 2\n",
    "    else:\n",
    "        se = np.sqrt(var1/n1 + var2/n2)\n",
    "        dof = (var1/n1 + var2/n2)**2 / ((var1/n1)**2/(n1-1) + (var2/n2)**2/(n2-1))\n",
    "    return se, dof\n",
    "\n",
    "mean_diff_exp_1 = exp_1_test.mean() - exp_1_control.mean()\n",
    "std_err_exp_1, dof_exp_1 = standard_error_two_samples(exp_1_test, exp_1_control)\n",
    "\n",
    "t_stat_exp_1 = mean_diff_exp_1 / std_err_exp_1\n",
    "p_val_exp1 = 2 *(1 - t.cdf(abs(t_stat_exp_1), dof_exp_1))\n",
    "p_val_exp1"
   ]
  },
  {
   "cell_type": "markdown",
   "id": "40ea1908-4139-470d-84e8-08634540bbb8",
   "metadata": {},
   "source": [
    "Из-за того что *p_value > 0.05* результат статистически не значимый и мы не можем утверждать что ***ARPU*** экспериментальной и контрольной не равны."
   ]
  },
  {
   "cell_type": "code",
   "execution_count": 228,
   "id": "d4b876cb-d11c-4b77-b20a-65c9cc8a0908",
   "metadata": {},
   "outputs": [
    {
     "data": {
      "text/plain": [
       "0.688784211779017"
      ]
     },
     "execution_count": 228,
     "metadata": {},
     "output_type": "execute_result"
    }
   ],
   "source": [
    "# Дальше используем готовую функцию\n",
    "from scipy.stats import ttest_ind\n",
    "\n",
    "equal_var = True if levene_p > 0.05 else False\n",
    "\n",
    "t_stat_exp_1, p_val_exp1 = ttest_ind(exp_1_test, exp_1_control, equal_var = equal_var)\n",
    "p_val_exp1"
   ]
  },
  {
   "cell_type": "code",
   "execution_count": 318,
   "id": "8d4187a4-ba99-474b-b004-8f6b4f0d6b50",
   "metadata": {},
   "outputs": [
    {
     "data": {
      "text/plain": [
       "(-334.5670447711731, 221.12578133031286)"
      ]
     },
     "execution_count": 318,
     "metadata": {},
     "output_type": "execute_result"
    }
   ],
   "source": [
    "# Находим доверительный интервал α = 0.05 двусторонний для реальной разницы ARPU\n",
    "alpha = 0.05\n",
    "t_critical = t.ppf(1 - alpha/2, dof_exp_1)\n",
    "\n",
    "lower_CI_exp1 = mean_diff_exp_1 - t_critical * std_err_exp_1\n",
    "upper_CI_exp1 = mean_diff_exp_1 + t_critical * std_err_exp_1\n",
    "\n",
    "(lower_CI_exp1, upper_CI_exp1)"
   ]
  },
  {
   "cell_type": "markdown",
   "id": "7791d23d-cf3f-4913-bf55-73767905a6d4",
   "metadata": {},
   "source": [
    "Из-за того что *p_value/2 > 0.05*, то несмотря на то какую одностороннюю альтернативную гипотезу мы бы ни тестили (experimental_mean > control_mean OR experimental_mean < control_mean), нулевую гипотезу мы отклонить все равно не сможем. Делаем вывод, что у нас не достаточно доказательств чтоб утверждать что у нас вообще есть какое-либо отличие в ARPU между экспериментальной и контрольной выборками в первом эксперименте."
   ]
  },
  {
   "cell_type": "markdown",
   "id": "863cc053-f3bd-4244-9a04-55412b0e092a",
   "metadata": {},
   "source": [
    "### Experiment 2"
   ]
  },
  {
   "cell_type": "code",
   "execution_count": 312,
   "id": "b2130ca7-c546-4b48-ad22-bf47e402fc17",
   "metadata": {},
   "outputs": [
    {
     "data": {
      "text/html": [
       "<div>\n",
       "<style scoped>\n",
       "    .dataframe tbody tr th:only-of-type {\n",
       "        vertical-align: middle;\n",
       "    }\n",
       "\n",
       "    .dataframe tbody tr th {\n",
       "        vertical-align: top;\n",
       "    }\n",
       "\n",
       "    .dataframe thead th {\n",
       "        text-align: right;\n",
       "    }\n",
       "</style>\n",
       "<table border=\"1\" class=\"dataframe\">\n",
       "  <thead>\n",
       "    <tr style=\"text-align: right;\">\n",
       "      <th></th>\n",
       "      <th>Test</th>\n",
       "      <th>Statistic</th>\n",
       "      <th>p-value</th>\n",
       "      <th>Equal Variances? (α = 0.05)</th>\n",
       "    </tr>\n",
       "  </thead>\n",
       "  <tbody>\n",
       "    <tr>\n",
       "      <th>0</th>\n",
       "      <td>Levene</td>\n",
       "      <td>28.426511</td>\n",
       "      <td>1.218390e-07</td>\n",
       "      <td>No</td>\n",
       "    </tr>\n",
       "    <tr>\n",
       "      <th>1</th>\n",
       "      <td>Bartlett</td>\n",
       "      <td>233.052045</td>\n",
       "      <td>1.287541e-52</td>\n",
       "      <td>No</td>\n",
       "    </tr>\n",
       "    <tr>\n",
       "      <th>2</th>\n",
       "      <td>Fligner-Killeen</td>\n",
       "      <td>60.995157</td>\n",
       "      <td>5.721539e-15</td>\n",
       "      <td>No</td>\n",
       "    </tr>\n",
       "  </tbody>\n",
       "</table>\n",
       "</div>"
      ],
      "text/plain": [
       "              Test   Statistic       p-value Equal Variances? (α = 0.05)\n",
       "0           Levene   28.426511  1.218390e-07                          No\n",
       "1         Bartlett  233.052045  1.287541e-52                          No\n",
       "2  Fligner-Killeen   60.995157  5.721539e-15                          No"
      ]
     },
     "execution_count": 312,
     "metadata": {},
     "output_type": "execute_result"
    }
   ],
   "source": [
    "# У нас достаточный размер выборок, но неизвестно стандартное отклонение ген. совокупности, значит используем t-test\n",
    "# exp_2_test среднее меньше чем среднее значение exp_2_control\n",
    "\n",
    "# H0: ARPU экспериментальной и контрольной групп равны\n",
    "# H1: ARPU экспериментальной и контрольной групп не равны\n",
    "\n",
    "# Равность дисперсий\n",
    "levene_stat, levene_p = levene(exp_2_test, exp_2_control, center = 'mean')\n",
    "bartlett_stat, bartlett_p = bartlett(exp_2_test, exp_2_control)\n",
    "fligner_stat, fligner_p = fligner(exp_2_test, exp_2_control)\n",
    "\n",
    "results_var_eq = pd.DataFrame({\n",
    "    \"Test\": [\"Levene\", \"Bartlett\", \"Fligner-Killeen\"],\n",
    "    \"Statistic\": [levene_stat, bartlett_stat, fligner_stat],\n",
    "    \"p-value\": [levene_p, bartlett_p, fligner_p],\n",
    "    \"Equal Variances? (α = 0.05)\": [\"Yes\" if p > 0.05 else \"No\" for p in [levene_p, bartlett_p, fligner_p]]\n",
    "})\n",
    "results_var_eq"
   ]
  },
  {
   "cell_type": "code",
   "execution_count": 236,
   "id": "364c8667-7a14-4e1c-bda6-cb186b336414",
   "metadata": {},
   "outputs": [
    {
     "data": {
      "text/plain": [
       "0.0011282266247294027"
      ]
     },
     "execution_count": 236,
     "metadata": {},
     "output_type": "execute_result"
    }
   ],
   "source": [
    "# уровень значимости = 0.05\n",
    "\n",
    "equal_var = True if levene_p > 0.05 else False\n",
    "\n",
    "t_stat_exp_2, p_val_exp2 = ttest_ind(exp_2_test, exp_2_control, equal_var = equal_var)\n",
    "p_val_exp2"
   ]
  },
  {
   "cell_type": "markdown",
   "id": "1455ad91-1412-4640-a21a-7381d814b200",
   "metadata": {},
   "source": [
    "Из-за того что *p_value < 0.05* результат статистически значимый и мы можем отклонить нулевую гипотезу и утвердить что ***ARPU*** экспериментальной и контрольной групп не равны."
   ]
  },
  {
   "cell_type": "code",
   "execution_count": 239,
   "id": "b53fe112-01dc-419b-ba44-14d4e56d9b1f",
   "metadata": {},
   "outputs": [
    {
     "data": {
      "text/plain": [
       "0.0005641133123647014"
      ]
     },
     "execution_count": 239,
     "metadata": {},
     "output_type": "execute_result"
    }
   ],
   "source": [
    "# H0: ARPU экспериментальной и контрольной групп равны\n",
    "# H1: ARPU экспериментальной < ARPU контрольной\n",
    "\n",
    "p_val_exp2 / 2"
   ]
  },
  {
   "cell_type": "markdown",
   "id": "b399a077-3c07-478b-9273-6327c14a4774",
   "metadata": {},
   "source": [
    "Из-за того что *p_value/2 < 0.05*, мы можем отклонить нулевую гипотезу. Делаем вывод, что у нас есть достаточно доказательств чтоб утверждать что у нас ***ARPU*** экспериментальной группы меньше контрольной."
   ]
  },
  {
   "cell_type": "code",
   "execution_count": 320,
   "id": "57067514-8949-45db-9fca-4d5c5c7c5dcd",
   "metadata": {},
   "outputs": [
    {
     "data": {
      "text/plain": [
       "(-inf, -184.52210368217484)"
      ]
     },
     "execution_count": 320,
     "metadata": {},
     "output_type": "execute_result"
    }
   ],
   "source": [
    "# Находим доверительный интервал α = 0.05 односторонний для реальной разницы ARPU\n",
    "alpha = 0.05\n",
    "std_err_exp_2, dof_exp_2 = standard_error_two_samples(exp_2_test, exp_2_control)\n",
    "t_critical = t.ppf(1 - alpha, dof_exp_2)\n",
    "mean_diff_exp_2 = exp_2_test.mean() - exp_2_control.mean()\n",
    "\n",
    "lower_CI_exp2 = - np.inf \n",
    "upper_CI_exp2 = mean_diff_exp_2 + t_critical * std_err_exp_2\n",
    "\n",
    "(lower_CI_exp2, upper_CI_exp2)"
   ]
  },
  {
   "cell_type": "markdown",
   "id": "a05edaa2-e625-4a7e-99d7-399c05ddc149",
   "metadata": {},
   "source": [
    "### Experiment 3"
   ]
  },
  {
   "cell_type": "code",
   "execution_count": 314,
   "id": "7797765d-3aae-454f-9f00-c0dbf7bd84e6",
   "metadata": {},
   "outputs": [
    {
     "data": {
      "text/html": [
       "<div>\n",
       "<style scoped>\n",
       "    .dataframe tbody tr th:only-of-type {\n",
       "        vertical-align: middle;\n",
       "    }\n",
       "\n",
       "    .dataframe tbody tr th {\n",
       "        vertical-align: top;\n",
       "    }\n",
       "\n",
       "    .dataframe thead th {\n",
       "        text-align: right;\n",
       "    }\n",
       "</style>\n",
       "<table border=\"1\" class=\"dataframe\">\n",
       "  <thead>\n",
       "    <tr style=\"text-align: right;\">\n",
       "      <th></th>\n",
       "      <th>Test</th>\n",
       "      <th>Statistic</th>\n",
       "      <th>p-value</th>\n",
       "      <th>Equal Variances? (α = 0.05)</th>\n",
       "    </tr>\n",
       "  </thead>\n",
       "  <tbody>\n",
       "    <tr>\n",
       "      <th>0</th>\n",
       "      <td>Levene</td>\n",
       "      <td>6.159484</td>\n",
       "      <td>1.324414e-02</td>\n",
       "      <td>No</td>\n",
       "    </tr>\n",
       "    <tr>\n",
       "      <th>1</th>\n",
       "      <td>Bartlett</td>\n",
       "      <td>63.633702</td>\n",
       "      <td>1.498436e-15</td>\n",
       "      <td>No</td>\n",
       "    </tr>\n",
       "    <tr>\n",
       "      <th>2</th>\n",
       "      <td>Fligner-Killeen</td>\n",
       "      <td>32.262068</td>\n",
       "      <td>1.347178e-08</td>\n",
       "      <td>No</td>\n",
       "    </tr>\n",
       "  </tbody>\n",
       "</table>\n",
       "</div>"
      ],
      "text/plain": [
       "              Test  Statistic       p-value Equal Variances? (α = 0.05)\n",
       "0           Levene   6.159484  1.324414e-02                          No\n",
       "1         Bartlett  63.633702  1.498436e-15                          No\n",
       "2  Fligner-Killeen  32.262068  1.347178e-08                          No"
      ]
     },
     "execution_count": 314,
     "metadata": {},
     "output_type": "execute_result"
    }
   ],
   "source": [
    "# У нас достаточный размер выборок, но неизвестно стандартное отклонение ген. совокупности, значит используем t-test\n",
    "# exp_3_test среднее больше чем среднее значение exp_2_control\n",
    "\n",
    "# H0: ARPU экспериментальной и контрольной групп равны\n",
    "# H1: ARPU экспериментальной и контрольной групп не равны\n",
    "\n",
    "# Равность дисперсий\n",
    "levene_stat, levene_p = levene(exp_3_test, exp_3_control, center = 'mean')\n",
    "bartlett_stat, bartlett_p = bartlett(exp_3_test, exp_3_control)\n",
    "fligner_stat, fligner_p = fligner(exp_3_test, exp_3_control)\n",
    "\n",
    "results_var_eq = pd.DataFrame({\n",
    "    \"Test\": [\"Levene\", \"Bartlett\", \"Fligner-Killeen\"],\n",
    "    \"Statistic\": [levene_stat, bartlett_stat, fligner_stat],\n",
    "    \"p-value\": [levene_p, bartlett_p, fligner_p],\n",
    "    \"Equal Variances? (α = 0.05)\": [\"Yes\" if p > 0.05 else \"No\" for p in [levene_p, bartlett_p, fligner_p]]\n",
    "})\n",
    "results_var_eq"
   ]
  },
  {
   "cell_type": "code",
   "execution_count": 266,
   "id": "ca9a403b-6301-4bd4-987b-48ea3dd60386",
   "metadata": {},
   "outputs": [
    {
     "data": {
      "text/plain": [
       "0.06031548002841902"
      ]
     },
     "execution_count": 266,
     "metadata": {},
     "output_type": "execute_result"
    }
   ],
   "source": [
    "# уровень значимости = 0.05\n",
    "\n",
    "equal_var = True if levene_p > 0.05 else False\n",
    "\n",
    "t_stat_exp_3, p_val_exp3 = ttest_ind(exp_3_test, exp_3_control, equal_var = equal_var)\n",
    "p_val_exp3"
   ]
  },
  {
   "cell_type": "markdown",
   "id": "dc3fca1d-8dcb-4e17-974e-1e6940043b38",
   "metadata": {},
   "source": [
    "Из-за того что *p_value > 0.05* результат статистически не значимый и мы не можем отклонить нулевую гипотезу и не можем утвердить что ***ARPU*** экспериментальной и контрольной групп не равны."
   ]
  },
  {
   "cell_type": "code",
   "execution_count": 269,
   "id": "1355ae79-ece6-4f85-82fa-847fdd98320e",
   "metadata": {},
   "outputs": [
    {
     "data": {
      "text/plain": [
       "0.03015774001420951"
      ]
     },
     "execution_count": 269,
     "metadata": {},
     "output_type": "execute_result"
    }
   ],
   "source": [
    "# H0: ARPU экспериментальной и контрольной групп равны\n",
    "# H1: ARPU экспериментальной > ARPU контрольной\n",
    "\n",
    "p_val_exp3 / 2"
   ]
  },
  {
   "cell_type": "markdown",
   "id": "ecfe6e06-6f38-4e5a-b4aa-76ccc850f403",
   "metadata": {},
   "source": [
    "Из-за того что *p_value/2 < 0.05*, мы можем отклонить нулевую гипотезу. Делаем вывод, что у нас есть достаточно доказательств чтоб утверждать что у нас ***ARPU*** экспериментальной группы больше контрольной."
   ]
  },
  {
   "cell_type": "code",
   "execution_count": 322,
   "id": "9f0b2de9-95c4-44e0-a8b9-a8ecda1b7417",
   "metadata": {},
   "outputs": [
    {
     "data": {
      "text/plain": [
       "(41.792469588239555, inf)"
      ]
     },
     "execution_count": 322,
     "metadata": {},
     "output_type": "execute_result"
    }
   ],
   "source": [
    "# Находим доверительный интервал α = 0.05 односторонний для реальной разницы ARPU\n",
    "alpha = 0.05\n",
    "std_err_exp_3, dof_exp_3 = standard_error_two_samples(exp_3_test, exp_3_control)\n",
    "t_critical = t.ppf(1 - alpha, dof_exp_3) \n",
    "mean_diff_exp_3 = exp_3_test.mean() - exp_3_control.mean()\n",
    "\n",
    "lower_CI_exp3 = mean_diff_exp_3 - t_critical * std_err_exp_3\n",
    "upper_CI_exp3 = np.inf\n",
    "\n",
    "(lower_CI_exp3, upper_CI_exp3)"
   ]
  },
  {
   "cell_type": "markdown",
   "id": "8ac50ee9-6240-474c-bf92-eef0d4c3dd37",
   "metadata": {},
   "source": [
    "### Результат"
   ]
  },
  {
   "cell_type": "code",
   "execution_count": 328,
   "id": "9cd5d18c-db57-4742-9fab-f81dd1e5edc8",
   "metadata": {},
   "outputs": [
    {
     "name": "stdout",
     "output_type": "stream",
     "text": [
      "Сравниваем Experimental VS Control (то есть от Experimental отнимаем Control в анализах.)\n"
     ]
    },
    {
     "data": {
      "text/html": [
       "<div>\n",
       "<style scoped>\n",
       "    .dataframe tbody tr th:only-of-type {\n",
       "        vertical-align: middle;\n",
       "    }\n",
       "\n",
       "    .dataframe tbody tr th {\n",
       "        vertical-align: top;\n",
       "    }\n",
       "\n",
       "    .dataframe thead th {\n",
       "        text-align: right;\n",
       "    }\n",
       "</style>\n",
       "<table border=\"1\" class=\"dataframe\">\n",
       "  <thead>\n",
       "    <tr style=\"text-align: right;\">\n",
       "      <th></th>\n",
       "      <th>Experiments</th>\n",
       "      <th>Two OR one-sided</th>\n",
       "      <th>t-statistic</th>\n",
       "      <th>p-value</th>\n",
       "      <th>CI</th>\n",
       "    </tr>\n",
       "  </thead>\n",
       "  <tbody>\n",
       "    <tr>\n",
       "      <th>0</th>\n",
       "      <td>Experiment 1</td>\n",
       "      <td>Two-sided</td>\n",
       "      <td>-0.400629</td>\n",
       "      <td>0.688784</td>\n",
       "      <td>(-334.5670447711731, 221.12578133031286)</td>\n",
       "    </tr>\n",
       "    <tr>\n",
       "      <th>1</th>\n",
       "      <td>Experiment 2</td>\n",
       "      <td>One-sided less</td>\n",
       "      <td>-3.270721</td>\n",
       "      <td>0.000564</td>\n",
       "      <td>(-inf, -184.52210368217484)</td>\n",
       "    </tr>\n",
       "    <tr>\n",
       "      <th>2</th>\n",
       "      <td>Experiment 3</td>\n",
       "      <td>One-sided more</td>\n",
       "      <td>1.880979</td>\n",
       "      <td>0.000564</td>\n",
       "      <td>(41.792469588239555, inf)</td>\n",
       "    </tr>\n",
       "  </tbody>\n",
       "</table>\n",
       "</div>"
      ],
      "text/plain": [
       "    Experiments Two OR one-sided  t-statistic   p-value  \\\n",
       "0  Experiment 1        Two-sided    -0.400629  0.688784   \n",
       "1  Experiment 2   One-sided less    -3.270721  0.000564   \n",
       "2  Experiment 3   One-sided more     1.880979  0.000564   \n",
       "\n",
       "                                         CI  \n",
       "0  (-334.5670447711731, 221.12578133031286)  \n",
       "1               (-inf, -184.52210368217484)  \n",
       "2                 (41.792469588239555, inf)  "
      ]
     },
     "execution_count": 328,
     "metadata": {},
     "output_type": "execute_result"
    }
   ],
   "source": [
    "print(\"Сравниваем Experimental VS Control (то есть от Experimental отнимаем Control в анализах.)\")\n",
    "\n",
    "results = pd.DataFrame({\n",
    "    \"Experiments\": [\"Experiment 1\", \"Experiment 2\", \"Experiment 3\"],\n",
    "    \"Two OR one-sided\": [\"Two-sided\", \"One-sided less\", \"One-sided more\"],\n",
    "    \"t-statistic\": [t_stat_exp_1, t_stat_exp_2, t_stat_exp_3],\n",
    "    \"p-value\": [p_val_exp1, p_val_exp2/2, p_val_exp2/2],\n",
    "    \"CI\": [(lower_CI_exp1, upper_CI_exp1), (lower_CI_exp2, upper_CI_exp2), (lower_CI_exp3, upper_CI_exp3)]\n",
    "})\n",
    "results"
   ]
  },
  {
   "cell_type": "markdown",
   "id": "9e2b2e8d-7ad7-428d-a164-8b032aff9f1e",
   "metadata": {},
   "source": [
    "## Task #18"
   ]
  },
  {
   "cell_type": "code",
   "execution_count": 30,
   "id": "17feae39-5372-4e01-9ab0-5c3ccf13cf32",
   "metadata": {},
   "outputs": [
    {
     "name": "stdout",
     "output_type": "stream",
     "text": [
      "z-statistic two-sided: -2.1046\n",
      "p-value two-sided: 0.0353\n"
     ]
    }
   ],
   "source": [
    "import numpy as np\n",
    "from statsmodels.stats.proportion import proportions_ztest, confint_proportions_2indep\n",
    "\n",
    "paid = np.array([1003, 1099])\n",
    "samples = np.array([100047501, 100001055])\n",
    "\n",
    "# H0: конверсии двух выборок одинаковы\n",
    "# H1: конверсии двух выборок не одинаковы\n",
    "\n",
    "z_stat_two_sided, p_val_two_sided = proportions_ztest(paid, samples, alternative = 'two-sided')\n",
    "\n",
    "# Print the results\n",
    "print(f\"z-statistic two-sided: {z_stat_two_sided:.4f}\")\n",
    "print(f\"p-value two-sided: {p_val_two_sided:.4f}\")"
   ]
  },
  {
   "cell_type": "code",
   "execution_count": 36,
   "id": "54c2f578-19b0-429b-a4cf-a26cd989c058",
   "metadata": {},
   "outputs": [
    {
     "name": "stdout",
     "output_type": "stream",
     "text": [
      "z-statistic one-sided smaller: -2.1046\n",
      "p-value one-sided smaller: 0.0177\n",
      "effect size for Two Proportions Z test: -0.0003\n"
     ]
    }
   ],
   "source": [
    "# H0: конверсии двух выборок одинаковы\n",
    "# H1: конверсия контрольной группы меньше чем конверсия \n",
    "\n",
    "z_stat_one_sided, p_val_one_sided = proportions_ztest(paid, samples, alternative = 'smaller')\n",
    "\n",
    "# Print the results\n",
    "print(f\"z-statistic one-sided smaller: {z_stat_one_sided:.4f}\")\n",
    "print(f\"p-value one-sided smaller: {p_val_one_sided:.4f}\")\n",
    "\n",
    "effect_size_h = 2 * (np.arcsin(np.sqrt(paid[0]/samples[0])) - np.arcsin(np.sqrt(paid[1]/samples[1])))\n",
    "print(f\"effect size for Two Proportions Z test: {effect_size_h:.4f}\")"
   ]
  }
 ],
 "metadata": {
  "kernelspec": {
   "display_name": "Python [conda env:base] *",
   "language": "python",
   "name": "conda-base-py"
  },
  "language_info": {
   "codemirror_mode": {
    "name": "ipython",
    "version": 3
   },
   "file_extension": ".py",
   "mimetype": "text/x-python",
   "name": "python",
   "nbconvert_exporter": "python",
   "pygments_lexer": "ipython3",
   "version": "3.12.7"
  }
 },
 "nbformat": 4,
 "nbformat_minor": 5
}
